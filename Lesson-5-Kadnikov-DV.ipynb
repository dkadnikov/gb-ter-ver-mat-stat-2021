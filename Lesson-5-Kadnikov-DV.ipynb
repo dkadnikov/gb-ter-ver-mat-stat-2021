{
 "cells": [
  {
   "cell_type": "markdown",
   "id": "3155efc3",
   "metadata": {},
   "source": [
    "### Урок 5. Проверка статистических гипотез. P-значения. Доверительные интервалы. A/B-тестирование"
   ]
  },
  {
   "cell_type": "markdown",
   "id": "6bf63408",
   "metadata": {},
   "source": [
    "- 1. Известно, что генеральная совокупность распределена нормально со средним квадратическим отклонением, равным 16. Найти доверительный интервал для оценки математического ожидания a с надежностью 0.95, если выборочная средняя M = 80, а объем выборки n = 256.\n"
   ]
  },
  {
   "cell_type": "code",
   "execution_count": 28,
   "id": "c67268d2",
   "metadata": {},
   "outputs": [],
   "source": [
    "import numpy as np\n",
    "from math import sqrt\n",
    "import pandas as pd"
   ]
  },
  {
   "cell_type": "code",
   "execution_count": 20,
   "id": "5f6e1108",
   "metadata": {},
   "outputs": [],
   "source": [
    "std = 16\n",
    "a = 0.05\n",
    "Z = 1.96\n",
    "M = 80\n",
    "n = 256\n",
    "\n",
    "confidence_interval_a = M - Z * (std / sqrt(n))\n",
    "confidence_interval_b = M + Z * (std / sqrt(n))"
   ]
  },
  {
   "cell_type": "code",
   "execution_count": 21,
   "id": "b457e7b0",
   "metadata": {},
   "outputs": [
    {
     "name": "stdout",
     "output_type": "stream",
     "text": [
      "Доверительный интервал: [ 78.04 ; 81.96 ]\n"
     ]
    }
   ],
   "source": [
    "print('Доверительный интервал: [' , confidence_interval_a , ';' , confidence_interval_b,']')"
   ]
  },
  {
   "cell_type": "markdown",
   "id": "bc28cfca",
   "metadata": {},
   "source": [
    "- 2. В результате 10 независимых измерений некоторой величины X, выполненных с одинаковой точностью, получены опытные данные: 6.9, 6.1, 6.2, 6.8, 7.5, 6.3, 6.4, 6.9, 6.7, 6.1 . Предполагая, что результаты измерений подчинены нормальному закону распределения вероятностей,оценить истинное значение величины X при помощи доверительного интервала, покрывающего это значение с доверительной вероятностью 0,95.\n"
   ]
  },
  {
   "cell_type": "code",
   "execution_count": 22,
   "id": "4a19c71d",
   "metadata": {},
   "outputs": [
    {
     "name": "stdout",
     "output_type": "stream",
     "text": [
      "( 6.267538255912426 ; 6.912461744087575 )\n"
     ]
    }
   ],
   "source": [
    "a = np.array([6.9, 6.1, 6.2, 6.8, 7.5, 6.3, 6.4, 6.9, 6.7, 6.1])\n",
    "mu = np.mean(a)\n",
    "variance = a.var(ddof=1)\n",
    "s = variance**0.5\n",
    "\n",
    "print('(', mu - (2.262*s)/np.sqrt(10), ';', mu + (2.262*s)/np.sqrt(10), ')')"
   ]
  },
  {
   "cell_type": "markdown",
   "id": "7afa782c",
   "metadata": {},
   "source": [
    "- 3. Утверждается, что шарики для подшипников, изготовленные автоматическим станком, имеют средний диаметр 17 мм. Используя односторонний критерий с α=0,05, проверить эту гипотезу, если в выборке из n=100 шариков средний диаметр оказался равным 17.5 мм, а дисперсия известна и равна 4 кв. мм."
   ]
  },
  {
   "cell_type": "code",
   "execution_count": 23,
   "id": "f1564a87",
   "metadata": {},
   "outputs": [
    {
     "name": "stdout",
     "output_type": "stream",
     "text": [
      "верна гипотеза H0 на уровне значимости 0.05\n"
     ]
    }
   ],
   "source": [
    "# H0: диаметр = 17мм\n",
    "# H1: диаметр = 17.5мм\n",
    "\n",
    "a = 0.05\n",
    "n = 100\n",
    "sigma = 4\n",
    "\n",
    "# дисперсия(sigma) известна - использую z критерий\n",
    "Z_tablichnoe = 1.654\n",
    "Z_raschetnoe = (17.5 - 17) / 2 / n**0.5\n",
    "\n",
    "if Z_tablichnoe > Z_raschetnoe:\n",
    "    right = 'H0'\n",
    "else:\n",
    "    right = 'H1'\n",
    "print('верна гипотеза',right, 'на уровне значимости', a)"
   ]
  },
  {
   "cell_type": "markdown",
   "id": "140b2831",
   "metadata": {},
   "source": [
    "- 4. Продавец утверждает, что средний вес пачки печенья составляет 200 г. Из партии извлечена выборка из 10 пачек. Вес каждой пачки составляет: 202, 203, 199, 197, 195, 201, 200, 204, 194, 190. Известно, что их веса распределены нормально. Верно ли утверждение продавца, если учитывать, что доверительная вероятность равна 99%?"
   ]
  },
  {
   "cell_type": "code",
   "execution_count": 31,
   "id": "f68e14f3",
   "metadata": {},
   "outputs": [
    {
     "data": {
      "text/plain": [
       "-1.0651074037450896"
      ]
     },
     "execution_count": 31,
     "metadata": {},
     "output_type": "execute_result"
    }
   ],
   "source": [
    "\n",
    "import numpy as np\n",
    "\n",
    "a = np.array([202, 203, 199, 197, 195, 201, 200, 204, 194, 190])\n",
    "\n",
    "mu0 = 200\n",
    "mu = np.mean(a)\n",
    "variance = a.var(ddof=1)\n",
    "s = variance**0.5\n",
    "T = ((mu - mu0)*(10)**0.5)/s\n",
    "T"
   ]
  },
  {
   "cell_type": "code",
   "execution_count": 32,
   "id": "96f8dc1c",
   "metadata": {},
   "outputs": [
    {
     "name": "stdout",
     "output_type": "stream",
     "text": [
      "Утверждение продавца верно\n"
     ]
    }
   ],
   "source": [
    "print('Утверждение продавца верно')"
   ]
  },
  {
   "cell_type": "code",
   "execution_count": null,
   "id": "86773378",
   "metadata": {},
   "outputs": [],
   "source": []
  }
 ],
 "metadata": {
  "kernelspec": {
   "display_name": "Python 3",
   "language": "python",
   "name": "python3"
  },
  "language_info": {
   "codemirror_mode": {
    "name": "ipython",
    "version": 3
   },
   "file_extension": ".py",
   "mimetype": "text/x-python",
   "name": "python",
   "nbconvert_exporter": "python",
   "pygments_lexer": "ipython3",
   "version": "3.8.8"
  }
 },
 "nbformat": 4,
 "nbformat_minor": 5
}
