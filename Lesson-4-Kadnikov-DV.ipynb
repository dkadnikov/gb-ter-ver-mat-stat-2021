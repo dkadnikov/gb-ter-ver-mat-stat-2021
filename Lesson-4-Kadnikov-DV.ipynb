{
 "cells": [
  {
   "cell_type": "markdown",
   "id": "3155efc3",
   "metadata": {},
   "source": [
    "### Урок 4. Непрерывные случайные величины. Функция распределения и плотность распределения вероятностей. Равномерное и нормальное распределение. Центральная предельная теорема"
   ]
  },
  {
   "cell_type": "markdown",
   "id": "c7e23a1d",
   "metadata": {},
   "source": [
    "- 1. Случайная непрерывная величина A имеет равномерное распределение на промежутке (200, 800]. Найдите ее среднее значение и дисперсию."
   ]
  },
  {
   "cell_type": "markdown",
   "id": "01dcbb59",
   "metadata": {},
   "source": [
    "import pandas as pd\n",
    "import numpy as np\n",
    "from math import factorial as fl\n",
    "import scipy.stats as st\n",
    "import math\n",
    "import sympy"
   ]
  },
  {
   "cell_type": "code",
   "execution_count": 2,
   "id": "28e4699f",
   "metadata": {},
   "outputs": [],
   "source": [
    "medium_x = (200 + 800) / 2\n",
    "dispersion_х = (800 - 200) ** 2 / 12"
   ]
  },
  {
   "cell_type": "code",
   "execution_count": 3,
   "id": "8287b2a1",
   "metadata": {},
   "outputs": [
    {
     "name": "stdout",
     "output_type": "stream",
     "text": [
      "Cреднее значение = 500.0 , Дисперсия = 30000.0\n"
     ]
    }
   ],
   "source": [
    "print('Cреднее значение =',medium_x,', ' 'Дисперсия =',dispersion_х)"
   ]
  },
  {
   "cell_type": "markdown",
   "id": "40f53512",
   "metadata": {},
   "source": [
    "- 2. О случайной непрерывной равномерно распределенной величине B известно, что ее дисперсия равна 0.2. Можно ли найти правую границу величины B и ее среднее значение зная, что левая граница равна 0.5? Если да, найдите ее."
   ]
  },
  {
   "cell_type": "code",
   "execution_count": 4,
   "id": "21068fa4",
   "metadata": {},
   "outputs": [
    {
     "name": "stdout",
     "output_type": "stream",
     "text": [
      "Среднее значение правой границы величины B = 2.049193338482967\n"
     ]
    }
   ],
   "source": [
    "print('Среднее значение правой границы величины B =', 0.5 + np.sqrt(12 * 0.2))"
   ]
  },
  {
   "cell_type": "markdown",
   "id": "46c2744e",
   "metadata": {},
   "source": [
    "- 3. Непрерывная случайная величина X распределена нормально и задана плотностью распределения f(x) = (1 / (4 * sqrt(2*pi))) * (exp(-(x+2)**2) / 32).<br> \n",
    "Найдите:<br> \n",
    "а). M(X)<br> \n",
    "б). D(X)<br> \n",
    "в). std(X) (среднее квадратичное отклонение)<br> "
   ]
  },
  {
   "cell_type": "markdown",
   "id": "32151b21",
   "metadata": {},
   "source": [
    "M(X) = -2<br>\n",
    "D(X) = 16<br>\n",
    "std(X) = 4<br>"
   ]
  },
  {
   "cell_type": "markdown",
   "id": "706ece50",
   "metadata": {},
   "source": [
    "- 4. Рост взрослого населения города X имеет нормальное распределение. Причем, средний рост равен 174 см, а среднее квадратичное отклонение равно 8 см. Какова вероятность того, что случайным образом выбранный взрослый человек имеет рост:<br>\n",
    "а). больше 182 см<br>\n",
    "б). больше 190 см<br>\n",
    "в). от 166 см до 190 см<br>\n",
    "г). от 166 см до 182 см<br>\n",
    "д). от 158 см до 190 см<br>\n",
    "е). не выше 150 см или не ниже 190 см<br>\n",
    "ё). не выше 150 см или не ниже 198 см<br>\n",
    "ж). ниже 166 см.<br>"
   ]
  },
  {
   "cell_type": "code",
   "execution_count": 17,
   "id": "55f9cc52",
   "metadata": {},
   "outputs": [],
   "source": [
    "def f_x (rost): \n",
    "    return (1 / (4 * math.sqrt(8*pi))) * (math.exp(-(rost-174)**2 / 128))\n",
    "sigm = 8\n",
    "M = 174"
   ]
  },
  {
   "cell_type": "code",
   "execution_count": 18,
   "id": "a9a4f088",
   "metadata": {},
   "outputs": [
    {
     "data": {
      "text/plain": [
       "1.0"
      ]
     },
     "execution_count": 18,
     "metadata": {},
     "output_type": "execute_result"
    }
   ],
   "source": [
    "# выше 182\n",
    "Z = (182-M)/sigm\n",
    "Z"
   ]
  },
  {
   "cell_type": "code",
   "execution_count": 19,
   "id": "5bf49d8e",
   "metadata": {},
   "outputs": [
    {
     "data": {
      "text/plain": [
       "0.1587"
      ]
     },
     "execution_count": 19,
     "metadata": {},
     "output_type": "execute_result"
    }
   ],
   "source": [
    "P_182 = 0.5 - 0.3413\n",
    "P_182"
   ]
  },
  {
   "cell_type": "code",
   "execution_count": 20,
   "id": "942855ec",
   "metadata": {},
   "outputs": [
    {
     "data": {
      "text/plain": [
       "2.0"
      ]
     },
     "execution_count": 20,
     "metadata": {},
     "output_type": "execute_result"
    }
   ],
   "source": [
    "# выше 190\n",
    "Z = (190-M)/sigm\n",
    "Z"
   ]
  },
  {
   "cell_type": "code",
   "execution_count": 21,
   "id": "ae479b43",
   "metadata": {},
   "outputs": [
    {
     "data": {
      "text/plain": [
       "0.022699999999999998"
      ]
     },
     "execution_count": 21,
     "metadata": {},
     "output_type": "execute_result"
    }
   ],
   "source": [
    "P_190 = 0.5 - 0.4773\n",
    "P_190"
   ]
  },
  {
   "cell_type": "code",
   "execution_count": 22,
   "id": "2241f1c0",
   "metadata": {},
   "outputs": [
    {
     "data": {
      "text/plain": [
       "2.0"
      ]
     },
     "execution_count": 22,
     "metadata": {},
     "output_type": "execute_result"
    }
   ],
   "source": [
    "# от 166 до 190\n",
    "Z = (190-M)/sigm\n",
    "Z"
   ]
  },
  {
   "cell_type": "code",
   "execution_count": 23,
   "id": "a1eff49d",
   "metadata": {},
   "outputs": [
    {
     "data": {
      "text/plain": [
       "1.0"
      ]
     },
     "execution_count": 23,
     "metadata": {},
     "output_type": "execute_result"
    }
   ],
   "source": [
    "Z = (M-166)/sigm\n",
    "Z"
   ]
  },
  {
   "cell_type": "code",
   "execution_count": 24,
   "id": "274510d6",
   "metadata": {},
   "outputs": [
    {
     "data": {
      "text/plain": [
       "0.8186"
      ]
     },
     "execution_count": 24,
     "metadata": {},
     "output_type": "execute_result"
    }
   ],
   "source": [
    "P_166_190 = 0.4773+0.3413\n",
    "P_166_190"
   ]
  },
  {
   "cell_type": "code",
   "execution_count": 25,
   "id": "b1f6b24a",
   "metadata": {},
   "outputs": [
    {
     "data": {
      "text/plain": [
       "1.0"
      ]
     },
     "execution_count": 25,
     "metadata": {},
     "output_type": "execute_result"
    }
   ],
   "source": [
    "# от 166 см до 182\n",
    "Z = (182-M)/sigm\n",
    "Z"
   ]
  },
  {
   "cell_type": "code",
   "execution_count": 26,
   "id": "81dc2de7",
   "metadata": {},
   "outputs": [
    {
     "data": {
      "text/plain": [
       "1.0"
      ]
     },
     "execution_count": 26,
     "metadata": {},
     "output_type": "execute_result"
    }
   ],
   "source": [
    "Z = (M-166)/sigm\n",
    "Z"
   ]
  },
  {
   "cell_type": "code",
   "execution_count": 27,
   "id": "dabad19c",
   "metadata": {},
   "outputs": [
    {
     "data": {
      "text/plain": [
       "0.6826"
      ]
     },
     "execution_count": 27,
     "metadata": {},
     "output_type": "execute_result"
    }
   ],
   "source": [
    "P_166_182 = 0.3413+0.3413\n",
    "P_166_182"
   ]
  },
  {
   "cell_type": "code",
   "execution_count": 28,
   "id": "9329d3d0",
   "metadata": {},
   "outputs": [
    {
     "data": {
      "text/plain": [
       "2.0"
      ]
     },
     "execution_count": 28,
     "metadata": {},
     "output_type": "execute_result"
    }
   ],
   "source": [
    "# от 158 см до 190 см\n",
    "Z = (190-M)/sigm\n",
    "Z"
   ]
  },
  {
   "cell_type": "code",
   "execution_count": 29,
   "id": "20100c4c",
   "metadata": {},
   "outputs": [
    {
     "data": {
      "text/plain": [
       "2.0"
      ]
     },
     "execution_count": 29,
     "metadata": {},
     "output_type": "execute_result"
    }
   ],
   "source": [
    "Z = (M-158)/sigm\n",
    "Z"
   ]
  },
  {
   "cell_type": "code",
   "execution_count": 30,
   "id": "c503dabf",
   "metadata": {},
   "outputs": [
    {
     "data": {
      "text/plain": [
       "0.9546"
      ]
     },
     "execution_count": 30,
     "metadata": {},
     "output_type": "execute_result"
    }
   ],
   "source": [
    "P_158_190 = 0.4773+0.4773\n",
    "P_158_190"
   ]
  },
  {
   "cell_type": "code",
   "execution_count": 31,
   "id": "105e37d9",
   "metadata": {},
   "outputs": [
    {
     "data": {
      "text/plain": [
       "2.0"
      ]
     },
     "execution_count": 31,
     "metadata": {},
     "output_type": "execute_result"
    }
   ],
   "source": [
    "# не выше 150 см или не ниже 190 см\n",
    "Z = (190-M)/sigm\n",
    "Z"
   ]
  },
  {
   "cell_type": "code",
   "execution_count": 32,
   "id": "df7394e4",
   "metadata": {},
   "outputs": [
    {
     "data": {
      "text/plain": [
       "3.0"
      ]
     },
     "execution_count": 32,
     "metadata": {},
     "output_type": "execute_result"
    }
   ],
   "source": [
    "Z = (M-150)/sigm\n",
    "Z"
   ]
  },
  {
   "cell_type": "code",
   "execution_count": 33,
   "id": "edabca57",
   "metadata": {},
   "outputs": [
    {
     "data": {
      "text/plain": [
       "0.0026000000000000467"
      ]
     },
     "execution_count": 33,
     "metadata": {},
     "output_type": "execute_result"
    }
   ],
   "source": [
    "P_198_150 = 1 - (0.4987+0.4987)\n",
    "P_198_150"
   ]
  },
  {
   "cell_type": "code",
   "execution_count": 34,
   "id": "ad259399",
   "metadata": {},
   "outputs": [
    {
     "data": {
      "text/plain": [
       "1.0"
      ]
     },
     "execution_count": 34,
     "metadata": {},
     "output_type": "execute_result"
    }
   ],
   "source": [
    "# ниже 166 см\n",
    "Z = (M-166)/sigm\n",
    "Z"
   ]
  },
  {
   "cell_type": "code",
   "execution_count": 35,
   "id": "cba8ae63",
   "metadata": {},
   "outputs": [
    {
     "data": {
      "text/plain": [
       "0.1587"
      ]
     },
     "execution_count": 35,
     "metadata": {},
     "output_type": "execute_result"
    }
   ],
   "source": [
    "P_166 = 0.5 - 0.3413\n",
    "P_166"
   ]
  },
  {
   "cell_type": "markdown",
   "id": "58e2f364",
   "metadata": {},
   "source": [
    "5. На сколько сигм (средних квадратичных отклонений) отклоняется рост человека, равный 190 см, от математического ожидания роста в популяции, в которой M(X) = 178 см и D(X) = 25 кв.см?"
   ]
  },
  {
   "cell_type": "code",
   "execution_count": 37,
   "id": "cb5079a8",
   "metadata": {},
   "outputs": [
    {
     "data": {
      "text/latex": [
       "$\\displaystyle \\frac{12}{5}$"
      ],
      "text/plain": [
       "12/5"
      ]
     },
     "execution_count": 37,
     "metadata": {},
     "output_type": "execute_result"
    }
   ],
   "source": [
    "std = (190 - 178) / sqrt(25)\n",
    "std"
   ]
  },
  {
   "cell_type": "code",
   "execution_count": null,
   "id": "75598277",
   "metadata": {},
   "outputs": [],
   "source": []
  }
 ],
 "metadata": {
  "kernelspec": {
   "display_name": "Python 3",
   "language": "python",
   "name": "python3"
  },
  "language_info": {
   "codemirror_mode": {
    "name": "ipython",
    "version": 3
   },
   "file_extension": ".py",
   "mimetype": "text/x-python",
   "name": "python",
   "nbconvert_exporter": "python",
   "pygments_lexer": "ipython3",
   "version": "3.8.8"
  }
 },
 "nbformat": 4,
 "nbformat_minor": 5
}
