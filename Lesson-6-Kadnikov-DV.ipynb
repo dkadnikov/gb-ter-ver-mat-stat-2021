{
 "cells": [
  {
   "cell_type": "markdown",
   "id": "3155efc3",
   "metadata": {},
   "source": [
    "### Урок 6. Взаимосвязь величин. Параметрические и непараметрические показатели корреляции. Корреляционный анализ."
   ]
  },
  {
   "cell_type": "markdown",
   "id": "97092788",
   "metadata": {},
   "source": [
    "- 1. Даны значения величины заработной платы заемщиков банка (zp) и значения их поведенческого кредитного скоринга (ks):<br>\n",
    "zp = [35, 45, 190, 200, 40, 70, 54, 150, 120, 110],<br>\n",
    "ks = [401, 574, 874, 919, 459, 739, 653, 902, 746, 832].<br>\n",
    "Найдите ковариацию этих двух величин с помощью элементарных действий, а затем с помощью функции cov из numpy\n",
    "Полученные значения должны быть равны.<br>\n",
    "Найдите коэффициент корреляции Пирсона с помощью ковариации и среднеквадратичных отклонений двух признаков,\n",
    "а затем с использованием функций из библиотек numpy и pandas.<br>"
   ]
  },
  {
   "cell_type": "code",
   "execution_count": 1,
   "id": "4c8007c4",
   "metadata": {},
   "outputs": [],
   "source": [
    "import numpy as np"
   ]
  },
  {
   "cell_type": "code",
   "execution_count": 2,
   "id": "13866e85",
   "metadata": {},
   "outputs": [
    {
     "data": {
      "text/plain": [
       "array([ 35,  45, 190, 200,  40,  70,  54, 150, 120, 110])"
      ]
     },
     "execution_count": 2,
     "metadata": {},
     "output_type": "execute_result"
    }
   ],
   "source": [
    "zp = np.array([35, 45, 190, 200, 40, 70, 54, 150, 120, 110])\n",
    "zp"
   ]
  },
  {
   "cell_type": "code",
   "execution_count": 3,
   "id": "b8b24173",
   "metadata": {},
   "outputs": [
    {
     "data": {
      "text/plain": [
       "array([401, 574, 874, 919, 459, 739, 653, 902, 746, 832])"
      ]
     },
     "execution_count": 3,
     "metadata": {},
     "output_type": "execute_result"
    }
   ],
   "source": [
    "ks = np.array([401, 574, 874, 919, 459, 739, 653, 902, 746, 832])\n",
    "ks"
   ]
  },
  {
   "cell_type": "markdown",
   "id": "064010b7",
   "metadata": {},
   "source": [
    "Ковариация:"
   ]
  },
  {
   "cell_type": "code",
   "execution_count": 4,
   "id": "17a52cd6",
   "metadata": {},
   "outputs": [
    {
     "data": {
      "text/plain": [
       "9157.839999999997"
      ]
     },
     "execution_count": 4,
     "metadata": {},
     "output_type": "execute_result"
    }
   ],
   "source": [
    "cov_elementary = np.mean(zp * ks) - np.mean(zp) * np.mean(ks)\n",
    "cov_elementary"
   ]
  },
  {
   "cell_type": "code",
   "execution_count": 10,
   "id": "62d3edde",
   "metadata": {},
   "outputs": [
    {
     "data": {
      "text/plain": [
       "array([[ 3494.64,  9157.84],\n",
       "       [ 9157.84, 30468.89]])"
      ]
     },
     "execution_count": 10,
     "metadata": {},
     "output_type": "execute_result"
    }
   ],
   "source": [
    "np.cov(zp, ks, ddof=0)"
   ]
  },
  {
   "cell_type": "code",
   "execution_count": 7,
   "id": "cd6487db",
   "metadata": {},
   "outputs": [
    {
     "data": {
      "text/plain": [
       "59.115480206118605"
      ]
     },
     "execution_count": 7,
     "metadata": {},
     "output_type": "execute_result"
    }
   ],
   "source": [
    "np.std(zp)"
   ]
  },
  {
   "cell_type": "code",
   "execution_count": 8,
   "id": "e2dd2285",
   "metadata": {},
   "outputs": [
    {
     "data": {
      "text/plain": [
       "174.55340157098058"
      ]
     },
     "execution_count": 8,
     "metadata": {},
     "output_type": "execute_result"
    }
   ],
   "source": [
    "np.std(ks)"
   ]
  },
  {
   "cell_type": "markdown",
   "id": "968d1b02",
   "metadata": {},
   "source": [
    "Коэффициент корреляции Пирсона с помощью ковариации и среднеквадратичных отклонений двух признаков"
   ]
  },
  {
   "cell_type": "code",
   "execution_count": 11,
   "id": "0b230c7b",
   "metadata": {},
   "outputs": [
    {
     "data": {
      "text/plain": [
       "0.8874900920739158"
      ]
     },
     "execution_count": 11,
     "metadata": {},
     "output_type": "execute_result"
    }
   ],
   "source": [
    "cov_elementary / (np.std(zp) * np.std(ks))\n"
   ]
  },
  {
   "cell_type": "markdown",
   "id": "2c021b10",
   "metadata": {},
   "source": [
    "С использованием функций библиотек numpy и pandas."
   ]
  },
  {
   "cell_type": "code",
   "execution_count": 14,
   "id": "d34e62c1",
   "metadata": {},
   "outputs": [
    {
     "data": {
      "text/plain": [
       "array([[1.        , 0.88749009],\n",
       "       [0.88749009, 1.        ]])"
      ]
     },
     "execution_count": 14,
     "metadata": {},
     "output_type": "execute_result"
    }
   ],
   "source": [
    "np.corrcoef(zp, ks)"
   ]
  },
  {
   "cell_type": "markdown",
   "id": "ef078add",
   "metadata": {},
   "source": [
    "- 2. Измерены значения IQ выборки студентов, обучающихся в местных технических вузах:<br>\n",
    "131, 125, 115, 122, 131, 115, 107, 99, 125, 111.<br>\n",
    "Известно, что в генеральной совокупности IQ распределен нормально.<br>\n",
    "Найдите доверительный интервал для математического ожидания с надежностью 0.95.<br>"
   ]
  },
  {
   "cell_type": "code",
   "execution_count": 15,
   "id": "b43d25a4",
   "metadata": {},
   "outputs": [
    {
     "data": {
      "text/plain": [
       "array([131, 125, 115, 122, 131, 115, 107,  99, 125, 111])"
      ]
     },
     "execution_count": 15,
     "metadata": {},
     "output_type": "execute_result"
    }
   ],
   "source": [
    "iq_temporary = np.array([131, 125, 115, 122, 131, 115, 107, 99, 125, 111])\n",
    "iq_temporary"
   ]
  },
  {
   "cell_type": "code",
   "execution_count": 16,
   "id": "5111232f",
   "metadata": {},
   "outputs": [
    {
     "data": {
      "text/plain": [
       "118.1"
      ]
     },
     "execution_count": 16,
     "metadata": {},
     "output_type": "execute_result"
    }
   ],
   "source": [
    "mu = iq_temporary.mean()\n",
    "mu"
   ]
  },
  {
   "cell_type": "code",
   "execution_count": 17,
   "id": "2ed73311",
   "metadata": {},
   "outputs": [
    {
     "data": {
      "text/plain": [
       "111.21111111111111"
      ]
     },
     "execution_count": 17,
     "metadata": {},
     "output_type": "execute_result"
    }
   ],
   "source": [
    "variance = iq_temporary.var(ddof=1)\n",
    "variance"
   ]
  },
  {
   "cell_type": "code",
   "execution_count": 18,
   "id": "83e93b77",
   "metadata": {},
   "outputs": [
    {
     "data": {
      "text/plain": [
       "10.54566788359614"
      ]
     },
     "execution_count": 18,
     "metadata": {},
     "output_type": "execute_result"
    }
   ],
   "source": [
    "s = variance**0.5\n",
    "s"
   ]
  },
  {
   "cell_type": "markdown",
   "id": "27443912",
   "metadata": {},
   "source": [
    "Доверительный интервал для математического ожидания:"
   ]
  },
  {
   "cell_type": "code",
   "execution_count": 19,
   "id": "2cbeaf49",
   "metadata": {},
   "outputs": [
    {
     "data": {
      "text/plain": [
       "[110.55660776308164, 125.64339223691834]"
      ]
     },
     "execution_count": 19,
     "metadata": {},
     "output_type": "execute_result"
    }
   ],
   "source": [
    "[mu - 2.262 * s / np.sqrt(10), mu + 2.262 * s / np.sqrt(10)]"
   ]
  },
  {
   "cell_type": "markdown",
   "id": "3826e031",
   "metadata": {},
   "source": [
    "- 3. Известно, что рост футболистов в сборной распределен нормально с дисперсией генеральной совокупности, равной 25 кв.см. Объем выборки равен 27, среднее выборочное составляет 174.2. Найдите доверительный интервал для математического ожидания с надежностью 0.95."
   ]
  },
  {
   "cell_type": "code",
   "execution_count": 20,
   "id": "6de5dd86",
   "metadata": {},
   "outputs": [
    {
     "data": {
      "text/plain": [
       "[172.31398912064722, 176.08601087935276]"
      ]
     },
     "execution_count": 20,
     "metadata": {},
     "output_type": "execute_result"
    }
   ],
   "source": [
    "[174.2 - 1.96 * 5 / np.sqrt(27), 174.2 + 1.96 * 5 / np.sqrt(27)]"
   ]
  },
  {
   "cell_type": "markdown",
   "id": "c761e727",
   "metadata": {},
   "source": [
    "### Тема курсовой работы\n",
    "Я записался на InClass Prediction Competition (Black Friday Sales / Geekbrains Python for Data Science course competition)\n",
    "Его у нас не было в ранних курсах, может будет в будущих, но не страшно.\n",
    "В общем: задача состоит в том, чтобы предсказать стоимость покупок в датасете test.csv\n",
    "#### Тему я взял - дисперсионный анализ c EDA -> а).EDA (рассчитать описательные статистики (мю,сигма,квартили…)+ графический анализ с выводами)\n"
   ]
  },
  {
   "cell_type": "code",
   "execution_count": null,
   "id": "51f97a0f",
   "metadata": {},
   "outputs": [],
   "source": []
  }
 ],
 "metadata": {
  "kernelspec": {
   "display_name": "Python 3",
   "language": "python",
   "name": "python3"
  },
  "language_info": {
   "codemirror_mode": {
    "name": "ipython",
    "version": 3
   },
   "file_extension": ".py",
   "mimetype": "text/x-python",
   "name": "python",
   "nbconvert_exporter": "python",
   "pygments_lexer": "ipython3",
   "version": "3.8.8"
  }
 },
 "nbformat": 4,
 "nbformat_minor": 5
}
