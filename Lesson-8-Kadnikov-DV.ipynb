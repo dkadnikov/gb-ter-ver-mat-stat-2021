{
 "cells": [
  {
   "cell_type": "markdown",
   "id": "3155efc3",
   "metadata": {},
   "source": [
    "### Урок 8. Урок 8. Дисперсионный анализ. Логистическая регрессия"
   ]
  },
  {
   "cell_type": "markdown",
   "id": "9c53400d",
   "metadata": {},
   "source": [
    "- Провести дисперсионный анализ для определения того, есть ли различия среднего роста среди взрослых футболистов, хоккеистов и штангистов.\n",
    "- Даны значения роста в трех группах случайно выбранных спортсменов:,<br> Футболисты: 173, 175, 180, 178, 177, 185, 183, 182.<br> Хоккеисты: 177, 179, 180, 188, 177, 172, 171, 184, 180.<br> Штангисты: 172, 173, 169, 177, 166, 180, 178, 177, 172, 166, 170."
   ]
  },
  {
   "cell_type": "code",
   "execution_count": 1,
   "id": "17ac199a",
   "metadata": {},
   "outputs": [],
   "source": [
    "import numpy as np\n",
    "from scipy import stats"
   ]
  },
  {
   "cell_type": "code",
   "execution_count": 2,
   "id": "dbec6666",
   "metadata": {},
   "outputs": [
    {
     "data": {
      "text/plain": [
       "F_onewayResult(statistic=5.500053450812596, pvalue=0.010482206918698694)"
      ]
     },
     "execution_count": 2,
     "metadata": {},
     "output_type": "execute_result"
    }
   ],
   "source": [
    "football = np.array([173, 175, 180, 178, 177, 185, 183, 182])\n",
    "hockey = np.array([177, 179, 180, 188, 177, 172, 171, 184, 180])\n",
    "weightlifters = np.array([172, 173, 169, 177, 166, 180, 178, 177, 172, 166, 170])\n",
    "\n",
    "stats.f_oneway(football, hockey, weightlifters)"
   ]
  },
  {
   "cell_type": "markdown",
   "id": "e8bac25c",
   "metadata": {},
   "source": [
    "Нулевая гипотеза H0: μ1 = μ2 = μ3<br>\n",
    "Альтернативная гипотеза H1: μ1 != μ2 != μ3<br>\n",
    "\n",
    "При статистическом уровне значимости 5% (α = 0.05), различие между группами статистически значимо, поскольку 0.05 > 0.01048. Поэтому принимаем альтернативную гипотезу (H1).<br>\n",
    "\n",
    "<b>Вывод:</b> существует различие среднего роста среди взрослых футболистов, хоккеистов и штангистов.<br>\n",
    "\n",
    "При статистическом уровне значимости 1% (α = 0.01), различие между группами статистически незначимо, поскольку 0.01 < 0.01048. Поэтому принимаем нулевую гипотезу (H0).<br>\n",
    "<b>Вывод:</b> не существует различия среднего роста среди взрослых футболистов, хоккеистов и штангистов.<br>"
   ]
  },
  {
   "cell_type": "markdown",
   "id": "f62aa3bc",
   "metadata": {},
   "source": []
  },
  {
   "cell_type": "markdown",
   "id": "c8afd569",
   "metadata": {},
   "source": [
    "### Куросовой проект, прикреплю в этом же pull-request дополнительным файлом, ссылку продублирую в ЛС."
   ]
  },
  {
   "cell_type": "code",
   "execution_count": null,
   "id": "4b3d6d53",
   "metadata": {},
   "outputs": [],
   "source": []
  }
 ],
 "metadata": {
  "kernelspec": {
   "display_name": "Python 3",
   "language": "python",
   "name": "python3"
  },
  "language_info": {
   "codemirror_mode": {
    "name": "ipython",
    "version": 3
   },
   "file_extension": ".py",
   "mimetype": "text/x-python",
   "name": "python",
   "nbconvert_exporter": "python",
   "pygments_lexer": "ipython3",
   "version": "3.8.8"
  }
 },
 "nbformat": 4,
 "nbformat_minor": 5
}
