{
 "cells": [
  {
   "cell_type": "markdown",
   "id": "3155efc3",
   "metadata": {},
   "source": [
    "### Урок 7. Многомерный статистический анализ. Линейная регрессия"
   ]
  },
  {
   "cell_type": "markdown",
   "id": "a5007680",
   "metadata": {},
   "source": [
    "- 1. Даны значения величины заработной платы заемщиков банка (zp) и значения их поведенческого кредитного скоринга (ks): zp = [35, 45, 190, 200, 40, 70, 54, 150, 120, 110], ks = [401, 574, 874, 919, 459, 739, 653, 902, 746, 832]. Используя математические операции, посчитать коэффициенты линейной регрессии, приняв за X заработную плату (то есть, zp - признак), а за y - значения скорингового балла (то есть, ks - целевая переменная). Произвести расчет как с использованием intercept, так и без."
   ]
  },
  {
   "cell_type": "code",
   "execution_count": 1,
   "id": "4ab05d04",
   "metadata": {},
   "outputs": [],
   "source": [
    "import numpy as np\n",
    "import pandas as pd"
   ]
  },
  {
   "cell_type": "code",
   "execution_count": 2,
   "id": "76d82e1e",
   "metadata": {},
   "outputs": [
    {
     "name": "stdout",
     "output_type": "stream",
     "text": [
      "Коэфф линейной регрессии без интерсепта [[5.88982042]]\n",
      "Коэфф линейной регрессии c интерсептом [[444.17735732]\n",
      " [  2.62053888]]\n"
     ]
    }
   ],
   "source": [
    "zp = np.array([35, 45, 190, 200, 40, 70, 54, 150, 120, 110]).reshape(1,-1)\n",
    "ks = np.array([401, 574, 874, 919, 459, 739, 653, 902, 746, 832]).reshape(1,-1)\n",
    "\n",
    "print(\"Коэфф линейной регрессии без интерсепта\", np.linalg.inv(np.dot(zp, zp.T)) @ zp @ ks.T)\n",
    "zp = np.array([np.ones(zp.shape[1]), zp[0]])\n",
    "print(\"Коэфф линейной регрессии c интерсептом\", np.linalg.inv(np.dot(zp, zp.T)) @ zp @ ks.T)"
   ]
  },
  {
   "cell_type": "markdown",
   "id": "5dcaaab7",
   "metadata": {},
   "source": [
    "- 2. Посчитать коэффициент линейной регрессии при заработной плате (zp), используя градиентный спуск (без intercept)."
   ]
  },
  {
   "cell_type": "code",
   "execution_count": 3,
   "id": "081f17f3",
   "metadata": {},
   "outputs": [
    {
     "data": {
      "text/plain": [
       "5.889820420132684"
      ]
     },
     "execution_count": 3,
     "metadata": {},
     "output_type": "execute_result"
    }
   ],
   "source": [
    "X = np.array([35, 45, 190, 200, 40, 70, 54, 150, 120, 110]).reshape(1,-1)\n",
    "y = np.array([401, 574, 874, 919, 459, 739, 653, 902, 746, 832]).reshape(1,-1)\n",
    "n = X.shape[1]\n",
    "\n",
    "def mse(y,y_pred):\n",
    "    return np.sum((y-y_pred)**2/len(y))\n",
    "\n",
    "\n",
    "alpha = 0.000003\n",
    "w1 = 0.1\n",
    "\n",
    "for i in range(10000):\n",
    "    y_pred = w1 * X\n",
    "    w1 -= alpha * 2/n * np.sum((y_pred-y)*X)\n",
    "w1"
   ]
  },
  {
   "cell_type": "markdown",
   "id": "1c3711bc",
   "metadata": {},
   "source": [
    "- 3. В каких случаях для вычисления доверительных интервалов и проверки статистических гипотез используется таблица значений функции Лапласа, а в каких - таблица критических точек распределения Стьюдента? *4. Произвести вычисления как в пункте 2, но с вычислением intercept. Учесть, что изменение коэффициентов должно производиться на каждом шаге одновременно (то есть изменение одного коэффициента не должно влиять на изменение другого во время одной итерации)."
   ]
  },
  {
   "cell_type": "markdown",
   "id": "8fd0e059",
   "metadata": {},
   "source": [
    "- Таблица значений функции Лапласа используется когда нам данны харакетиристики распредление генеральной совокупности\n",
    "- Таблица распределения Стьюдента используетя тогда, когда нам даны характеристики выборки из генеральной совокупности, (как правило дана сама выборка)\n"
   ]
  },
  {
   "cell_type": "code",
   "execution_count": null,
   "id": "fa852db8",
   "metadata": {},
   "outputs": [],
   "source": []
  }
 ],
 "metadata": {
  "kernelspec": {
   "display_name": "Python 3",
   "language": "python",
   "name": "python3"
  },
  "language_info": {
   "codemirror_mode": {
    "name": "ipython",
    "version": 3
   },
   "file_extension": ".py",
   "mimetype": "text/x-python",
   "name": "python",
   "nbconvert_exporter": "python",
   "pygments_lexer": "ipython3",
   "version": "3.8.8"
  }
 },
 "nbformat": 4,
 "nbformat_minor": 5
}
